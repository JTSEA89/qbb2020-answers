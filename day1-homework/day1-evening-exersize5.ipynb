{
 "cells": [
  {
   "cell_type": "code",
   "execution_count": 1,
   "metadata": {},
   "outputs": [
    {
     "name": "stdout",
     "output_type": "stream",
     "text": [
      "<_io.TextIOWrapper name='/Users/cmdb/data/results/SRR072893.sam' mode='r' encoding='UTF-8'>\n"
     ]
    }
   ],
   "source": [
    "# Open file and assing f\n",
    "f = open('/Users/cmdb/data/results/SRR072893.sam')\n",
    "print(f)"
   ]
  },
  {
   "cell_type": "code",
   "execution_count": 2,
   "metadata": {},
   "outputs": [
    {
     "name": "stdout",
     "output_type": "stream",
     "text": [
      "number of matches for sequences that fall within 10k&20k and are on Chr2L:\n",
      "7550\n"
     ]
    }
   ],
   "source": [
    "#define variables\n",
    "i = 0 #itteration Count\n",
    "within_alignment = 0 # variables that fall within 10k&20k on chr2L\n",
    "\n",
    "print('number of matches for sequences that fall within 10k&20k and are on Chr2L:')\n",
    "\n",
    "#start itterated loop (for)\n",
    "for line in f:\n",
    "    field = line.strip('\\r\\n').split('\\t') #strip away deliniations and make a list\n",
    "    if field[2] == '2L':\n",
    "        if int(field[3]) >= 10000:\n",
    "            if int(field[3]) <= 20000:\n",
    "                within_alignment += 1\n",
    "        \n",
    "    i += 1 #itterate to next line\n",
    "    \n",
    "print(within_alignment)"
   ]
  },
  {
   "cell_type": "code",
   "execution_count": null,
   "metadata": {},
   "outputs": [],
   "source": []
  }
 ],
 "metadata": {
  "kernelspec": {
   "display_name": "Python 3",
   "language": "python",
   "name": "python3"
  },
  "language_info": {
   "codemirror_mode": {
    "name": "ipython",
    "version": 3
   },
   "file_extension": ".py",
   "mimetype": "text/x-python",
   "name": "python",
   "nbconvert_exporter": "python",
   "pygments_lexer": "ipython3",
   "version": "3.6.10"
  }
 },
 "nbformat": 4,
 "nbformat_minor": 4
}
