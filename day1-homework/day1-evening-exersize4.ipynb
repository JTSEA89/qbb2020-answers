{
 "cells": [
  {
   "cell_type": "code",
   "execution_count": 3,
   "metadata": {},
   "outputs": [
    {
     "name": "stdout",
     "output_type": "stream",
     "text": [
      "<_io.TextIOWrapper name='/Users/cmdb/data/results/SRR072893.sam' mode='r' encoding='UTF-8'>\n"
     ]
    }
   ],
   "source": [
    "# Open file and assing f\n",
    "f = open('/Users/cmdb/data/results/SRR072893.sam')\n",
    "print(f)"
   ]
  },
  {
   "cell_type": "code",
   "execution_count": 4,
   "metadata": {},
   "outputs": [
    {
     "name": "stdout",
     "output_type": "stream",
     "text": [
      "avergage mapq score:\n",
      "59.6407825\n",
      "number of allignments= 2000000\n"
     ]
    }
   ],
   "source": [
    "#define variables\n",
    "i = 0 #itteration Count\n",
    "mapq = 0 #map q score\n",
    "\n",
    "print('avergage mapq score:')\n",
    "\n",
    "#start itterated loop (for)\n",
    "for line in f:\n",
    "    field = line.strip('\\r\\n').split('\\t') #strip away deliniations and make a list\n",
    "    mapq += int(field[4]) #summate mapq score\n",
    "    i += 1 #itterate to next line\n",
    "    \n",
    "print(mapq/i)\n",
    "print('number of allignments=', i)"
   ]
  },
  {
   "cell_type": "code",
   "execution_count": null,
   "metadata": {},
   "outputs": [],
   "source": []
  }
 ],
 "metadata": {
  "kernelspec": {
   "display_name": "Python 3",
   "language": "python",
   "name": "python3"
  },
  "language_info": {
   "codemirror_mode": {
    "name": "ipython",
    "version": 3
   },
   "file_extension": ".py",
   "mimetype": "text/x-python",
   "name": "python",
   "nbconvert_exporter": "python",
   "pygments_lexer": "ipython3",
   "version": "3.6.10"
  }
 },
 "nbformat": 4,
 "nbformat_minor": 4
}
