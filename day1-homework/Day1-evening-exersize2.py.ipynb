{
 "cells": [
  {
   "cell_type": "markdown",
   "metadata": {},
   "source": [
    "# day one homework exersize 2.py\n",
    "\n",
    "# Load Program"
   ]
  },
  {
   "cell_type": "code",
   "execution_count": 1,
   "metadata": {},
   "outputs": [
    {
     "name": "stdout",
     "output_type": "stream",
     "text": [
      "<_io.TextIOWrapper name='/Users/cmdb/data/results/SRR072893.sam' mode='r' encoding='UTF-8'>\n"
     ]
    }
   ],
   "source": [
    "# Open file and assing f\n",
    "f = open('/Users/cmdb/data/results/SRR072893.sam')\n",
    "print(f)"
   ]
  },
  {
   "cell_type": "code",
   "execution_count": 2,
   "metadata": {},
   "outputs": [
    {
     "name": "stdout",
     "output_type": "stream",
     "text": [
      "number of matches= 2000000\n",
      "number of exact matches= 1702765\n"
     ]
    }
   ],
   "source": [
    "#define variables\n",
    "i = 0 #itteration Count\n",
    "m = 0 #number of matches count\n",
    "\n",
    "#start itterated loop (for)\n",
    "for line in f:\n",
    "    if line.find('NM:i:0') > -1:\n",
    "        m += 1\n",
    "    i += 1\n",
    "print('number of matches=', i)\n",
    "print('number of exact matches=', m)\n",
    "    "
   ]
  },
  {
   "cell_type": "code",
   "execution_count": null,
   "metadata": {},
   "outputs": [],
   "source": []
  }
 ],
 "metadata": {
  "kernelspec": {
   "display_name": "Python 3",
   "language": "python",
   "name": "python3"
  },
  "language_info": {
   "codemirror_mode": {
    "name": "ipython",
    "version": 3
   },
   "file_extension": ".py",
   "mimetype": "text/x-python",
   "name": "python",
   "nbconvert_exporter": "python",
   "pygments_lexer": "ipython3",
   "version": "3.6.10"
  }
 },
 "nbformat": 4,
 "nbformat_minor": 4
}
