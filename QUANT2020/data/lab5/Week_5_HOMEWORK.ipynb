{
 "cells": [
  {
   "cell_type": "markdown",
   "metadata": {},
   "source": [
    "# problem 1"
   ]
  },
  {
   "cell_type": "code",
   "execution_count": null,
   "metadata": {},
   "outputs": [],
   "source": [
    "#build index\n",
    "(lab-week2) [~/qbb2020-answers/QUANT2020/data/Lab5/g1e]bowtie2-build chr19\\ \\(1\\).fa chr19"
   ]
  },
  {
   "cell_type": "code",
   "execution_count": null,
   "metadata": {},
   "outputs": [],
   "source": []
  },
  {
   "cell_type": "code",
   "execution_count": null,
   "metadata": {},
   "outputs": [],
   "source": [
    "#put into terminal\n",
    "for sample in CTCF_ER4 CTCF_G1E input_ER4 input_G1E\n",
    "do\n",
    "    bowtie2 -x Chr19/chr19 -U ${sample}.fastq -S ${sample}.sam -p 6\n",
    "    samtools view -bSo ${sample}.bam ${sample}.sam\n",
    "    samtools sort ${sample}.bam -o ${sample}.sorted.bam\n",
    "    samtools index ${sample}.sorted.bam\n",
    "done\n",
    "\n"
   ]
  },
  {
   "cell_type": "markdown",
   "metadata": {},
   "source": [
    "# Check to see if bam is single or double reads"
   ]
  },
  {
   "cell_type": "code",
   "execution_count": null,
   "metadata": {},
   "outputs": [],
   "source": [
    "samtools view -c -f 1 CTCF_G1E.bam"
   ]
  },
  {
   "cell_type": "code",
   "execution_count": null,
   "metadata": {},
   "outputs": [],
   "source": [
    "samtools view -c -f 1 input_ER4.bam"
   ]
  },
  {
   "cell_type": "markdown",
   "metadata": {},
   "source": [
    "# map CTCF_ER4"
   ]
  },
  {
   "cell_type": "code",
   "execution_count": null,
   "metadata": {},
   "outputs": [],
   "source": []
  },
  {
   "cell_type": "code",
   "execution_count": null,
   "metadata": {},
   "outputs": [],
   "source": [
    "macs2 callpeak -t CTCF_ER4.bam -c input_ER4.bam --format=BAM --name=CTCF_ER4 --gsize=61000000 --tsize=36"
   ]
  },
  {
   "cell_type": "markdown",
   "metadata": {},
   "source": [
    "# map CTFC_G1E"
   ]
  },
  {
   "cell_type": "code",
   "execution_count": null,
   "metadata": {},
   "outputs": [],
   "source": [
    "macs2 callpeak -t CTCF_G1E.bam -c input_G1E.bam --format=BAM --name=CTCF_G1E --gsize=61000000 --tsize=36"
   ]
  },
  {
   "cell_type": "markdown",
   "metadata": {},
   "source": [
    "# Intersect files to find loss and gain\n"
   ]
  },
  {
   "cell_type": "code",
   "execution_count": null,
   "metadata": {},
   "outputs": [],
   "source": []
  },
  {
   "cell_type": "code",
   "execution_count": null,
   "metadata": {},
   "outputs": [],
   "source": [
    "#(cmdb) [~/qbb2020-answers/QUANT2020/data/lab5/g1e]bedtools intersect -a CTCF_G1E_peaks.narrowPeak -b CTCF_ER4_peaks.narrowPeak -v > intersectloss.bed\n",
    "#(cmdb) [~/qbb2020-answers/QUANT2020/data/lab5/g1e]bedtools intersect -a CTCF_ER4_peaks.narrowPeak -b CTCF_G1E_peaks.narrowPeak -v > intersectgain.bed"
   ]
  },
  {
   "cell_type": "code",
   "execution_count": null,
   "metadata": {
    "collapsed": true
   },
   "outputs": [],
   "source": [
    "#compare to the mouse features"
   ]
  },
  {
   "cell_type": "code",
   "execution_count": null,
   "metadata": {},
   "outputs": [],
   "source": [
    "#(cmdb) [~/qbb2020-answers/QUANT2020/data/lab5/g1e]bedtools intersect -a Mus_musculus.GRCm38.94_features.bed -b CTCF_G1E_peaks.narrowPeak > G1EFeatures.bed\n",
    "#(cmdb) [~/qbb2020-answers/QUANT2020/data/lab5/g1e]bedtools intersect -a Mus_musculus.GRCm38.94_features.bed -b CTCF_ER4_peaks.narrowPeak > ER4Features.bed"
   ]
  },
  {
   "cell_type": "code",
   "execution_count": 28,
   "metadata": {},
   "outputs": [],
   "source": [
    "# command line code to count feature occurence\n",
    "## (cmdb) [~/qbb2020-answers/QUANT2020/data/lab5/g1e]cut -f 4 G1EFeatures.bed | sort | uniq -c > G1Efeaturecount.text\n",
    "## (cmdb) [~/qbb2020-answers/QUANT2020/data/lab5/g1e]cut -f 4 ER4Features.bed | sort | uniq -c > ER4featurecount.text"
   ]
  },
  {
   "cell_type": "code",
   "execution_count": null,
   "metadata": {},
   "outputs": [],
   "source": [
    "#(cmdb) [~/qbb2020-answers/QUANT2020/data/lab5/g1e]cut -f 4 feature_overlap.bed | sort | uniq -c > featurecount.text"
   ]
  },
  {
   "cell_type": "code",
   "execution_count": null,
   "metadata": {},
   "outputs": [],
   "source": [
    "#(cmdb) [~/qbb2020-answers/QUANT2020/data/lab5/g1e]wc -l intersectloss.bed > countloss.txt\n",
    "#(cmdb) [~/qbb2020-answers/QUANT2020/data/lab5/g1e]wc -l intersectgain.bed > countgain.txt"
   ]
  },
  {
   "cell_type": "code",
   "execution_count": null,
   "metadata": {},
   "outputs": [],
   "source": [
    "# Make Graphs!"
   ]
  },
  {
   "cell_type": "code",
   "execution_count": 29,
   "metadata": {},
   "outputs": [
    {
     "data": {
      "image/png": "[encoded data removed]",
      "text/plain": [
       "<Figure size 432x288 with 2 Axes>"
      ]
     },
     "metadata": {
      "needs_background": "light"
     },
     "output_type": "display_data"
    }
   ],
   "source": [
    "import matplotlib.pyplot as plt\n",
    "import numpy as np\n",
    "#define figure and data\n",
    "fig, ax = plt.subplots(ncols=2)\n",
    "#data set for features\n",
    "label = [\"exon\",\"intron\",\"promoter\"]\n",
    "ER4Feature = [101, 341,67]\n",
    "G1EFeature = [84,307,54]\n",
    "\n",
    "# creating the dataset for loss and again \n",
    "data = {'gain':124, 'loss':58} \n",
    "labels = list(data.keys()) \n",
    "gain_loss = list(data.values())\n",
    "\n",
    "x = np.arange(len(label))  # the label locations\n",
    "width = 0.35  # the width of the bars\n",
    "\n",
    "rects1 = ax[0].bar(x - width/2, ER4Feature, width, label='ER4 Features')\n",
    "rects2 = ax[0].bar(x + width/2, G1EFeature, width, label='G1E Features')\n",
    "\n",
    "# Add some text for labels, title and custom x-axis tick labels, etc.\n",
    "ax[0].set_ylabel('Number of Feature Occurences')\n",
    "ax[0].set_title('Features by Type')\n",
    "ax[0].set_xticks(x)\n",
    "ax[0].set_xticklabels(label)\n",
    "ax[0].legend(loc='upper right', prop={'size': 7})\n",
    "\n",
    "ax[1].bar(labels, gain_loss, color ='maroon') \n",
    "ax[1].set_title('Transitions of CTCF Binding of GR1 compaired to ER4')\n",
    "ax[1].set_ylabel('Count')\n",
    "fig.tight_layout()\n",
    "plt.show()"
   ]
  },
  {
   "cell_type": "markdown",
   "metadata": {},
   "source": [
    "# Part 2"
   ]
  },
  {
   "cell_type": "code",
   "execution_count": null,
   "metadata": {},
   "outputs": [],
   "source": [
    "# sort and remove top 100"
   ]
  },
  {
   "cell_type": "code",
   "execution_count": null,
   "metadata": {},
   "outputs": [],
   "source": [
    "[~/qbb2020-answers/QUANT2020/data/lab5/g1e]sort -nr -k7 CTCF_ER4_peaks.narrowPeak | head -n 100 > top100ER4.narrowPeak"
   ]
  },
  {
   "cell_type": "code",
   "execution_count": null,
   "metadata": {},
   "outputs": [],
   "source": [
    "#find all the sequences that coorispond to the top 100 peaks"
   ]
  },
  {
   "cell_type": "code",
   "execution_count": null,
   "metadata": {},
   "outputs": [],
   "source": [
    "bedtools getfasta -fi Chr9/chr19.fa -bed top100ER4.narrowPeak > 100ER4.fa"
   ]
  },
  {
   "cell_type": "code",
   "execution_count": null,
   "metadata": {},
   "outputs": [],
   "source": [
    "#unzip library"
   ]
  },
  {
   "cell_type": "code",
   "execution_count": null,
   "metadata": {},
   "outputs": [],
   "source": [
    "(lab-week2) [~/qbb2020-answers/QUANT2020/data/lab5/g1e]tar -xvzf motif_databases.12.19.tgz"
   ]
  },
  {
   "cell_type": "code",
   "execution_count": null,
   "metadata": {},
   "outputs": [],
   "source": [
    "#run meme-chip with max length 20 against the jaspar_core_2016 library"
   ]
  },
  {
   "cell_type": "code",
   "execution_count": null,
   "metadata": {},
   "outputs": [],
   "source": [
    "(lab-week2) [~/qbb2020-answers/QUANT2020/data/lab5/g1e]meme-chip -meme-maxw 20 -db motif_databases/JASPAR/JASPAR_CORE_2016.meme* 100ER4.fa"
   ]
  },
  {
   "cell_type": "code",
   "execution_count": null,
   "metadata": {},
   "outputs": [],
   "source": [
    "#turn into pdf"
   ]
  },
  {
   "cell_type": "code",
   "execution_count": null,
   "metadata": {},
   "outputs": [],
   "source": [
    "(lab-week2) [~/qbb2020-answers/QUANT2020/data/lab5/g1e]epstopdf logo.epf\n"
   ]
  }
 ],
 "metadata": {
  "kernelspec": {
   "display_name": "Python 3",
   "language": "python",
   "name": "python3"
  },
  "language_info": {
   "codemirror_mode": {
    "name": "ipython",
    "version": 3
   },
   "file_extension": ".py",
   "mimetype": "text/x-python",
   "name": "python",
   "nbconvert_exporter": "python",
   "pygments_lexer": "ipython3",
   "version": "3.6.10"
  }
 },
 "nbformat": 4,
 "nbformat_minor": 4
}
