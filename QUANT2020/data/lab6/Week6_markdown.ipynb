{
 "cells": [
  {
   "cell_type": "markdown",
   "metadata": {},
   "source": [
    "# WEEK 6 - "
   ]
  },
  {
   "cell_type": "markdown",
   "metadata": {},
   "source": [
    "bisulfite seq!"
   ]
  },
  {
   "cell_type": "code",
   "execution_count": null,
   "metadata": {},
   "outputs": [],
   "source": [
    "# Activate Enviornmant for week6 containing: anaconda fastqc bismark samtools bowtie2 igv"
   ]
  },
  {
   "cell_type": "code",
   "execution_count": null,
   "metadata": {},
   "outputs": [],
   "source": [
    "# (cmdb) [~/qbb2020-answers/QUANT2020/data/lab6]conda activate week6"
   ]
  },
  {
   "cell_type": "code",
   "execution_count": null,
   "metadata": {},
   "outputs": [],
   "source": []
  },
  {
   "cell_type": "code",
   "execution_count": null,
   "metadata": {},
   "outputs": [],
   "source": [
    "Unzip\n",
    "tar -xvzf methylation_fastq.tar.gz"
   ]
  },
  {
   "cell_type": "code",
   "execution_count": null,
   "metadata": {},
   "outputs": [],
   "source": [
    "SRX1515395: GSM2027229: STEM-seq E4.0ICM rep1; Mus musculus; Bisulfite-Seq\n",
    "SRR3083926_2.chr6.fastq\n",
    "SRR3083926_1.chr6.fastq\n",
    "\n",
    "SRX1515397: GSM2027231: STEM-seq E5.5Epi rep1; Mus musculus; Bisulfite-Seq\n",
    "1 ILLUMINA (Illumina HiSeq 1500) run: 297.2M spots, 74.9G bases, 36Gb downloads\n",
    "    SRR3083929_1.chr6.fastq\n",
    "    SRR3083929_2.chr6.fastq"
   ]
  },
  {
   "cell_type": "code",
   "execution_count": null,
   "metadata": {},
   "outputs": [],
   "source": [
    "(week6) [~/qbb2020-answers/QUANT2020/data/lab6]bismark_genome_preparation --bowtie2 chr6\n",
    "(week6) [~/qbb2020-answers/QUANT2020/data/lab6]bismark --genome chr6/ -1 SRR3083926_1.chr6.fastq,SRR3083929_1.chr6.fastq -2 SRR3083926_2.chr6.fastq,SRR3083929_2.chr6.fastq\n"
   ]
  },
  {
   "cell_type": "code",
   "execution_count": null,
   "metadata": {},
   "outputs": [],
   "source": [
    "(week6) [~/qbb2020-answers/QUANT2020/data/lab6]samtools sort SRR3083929_1.chr6_bismark_bt2_pe.bam -o SRR29.sorted.bam\n",
    "(week6) [~/qbb2020-answers/QUANT2020/data/lab6]samtools sort SRR3083926_1.chr6_bismark_bt2_pe.bam -o SRR26.sorted.bam"
   ]
  },
  {
   "cell_type": "code",
   "execution_count": null,
   "metadata": {},
   "outputs": [],
   "source": [
    "(week6) [~/qbb2020-answers/QUANT2020/data/lab6]samtools index SRR26.sorted.bam\n",
    "(week6) [~/qbb2020-answers/QUANT2020/data/lab6]samtools index SRR29.sorted.bam"
   ]
  },
  {
   "cell_type": "code",
   "execution_count": null,
   "metadata": {},
   "outputs": [],
   "source": [
    "(week6) [~/qbb2020-answers/QUANT2020/data/lab6]bismark_methylation_extractor --bedgraph --comprehensive SRR26.sorted.bam.bai"
   ]
  },
  {
   "cell_type": "code",
   "execution_count": null,
   "metadata": {},
   "outputs": [],
   "source": [
    "(week6) [~/qbb2020-answers/QUANT2020/data/lab6]gunzip SRR3083926_1.chr6_bismark_bt2_pe.bedGraph.gz\n",
    "(week6) [~/qbb2020-answers/QUANT2020/data/lab6]gunzip SRR3083929_1.chr6_bismark_bt2_pe.bedGraph.gz"
   ]
  },
  {
   "cell_type": "markdown",
   "metadata": {},
   "source": [
    "# part 2! Lets do some scripting! "
   ]
  },
  {
   "cell_type": "code",
   "execution_count": 125,
   "metadata": {},
   "outputs": [],
   "source": [
    "E4 = open('/Users/cmdb/qbb2020-answers/QUANT2020/data/lab6/SRR3083926_1.chr6_bismark_bt2_pe.bedGraph', 'r') # Modify Phenotype file header and column #1\n",
    "E5 = open('/Users/cmdb/qbb2020-answers/QUANT2020/data/lab6/SRR3083929_1.chr6_bismark_bt2_pe.bedGraph', 'r') # Modify Phenotype file header and column #1\n",
    "Ref = open('/Users/cmdb/qbb2020-answers/QUANT2020/data/lab6/mm10_refseq_genes_chr6_50M_60M.bed')\n",
    "\n"
   ]
  },
  {
   "cell_type": "code",
   "execution_count": 83,
   "metadata": {},
   "outputs": [],
   "source": [
    "EmbroD4=[] #parse day 4\n",
    "for line in E4: \n",
    "    if \"track\" in line: # modify header\n",
    "        continue\n",
    "    else: #all the other lines\n",
    "        line = line.split() # split by blanks\n",
    "        EmbroD4.append(line)\n",
    "E4.close()\n"
   ]
  },
  {
   "cell_type": "code",
   "execution_count": 85,
   "metadata": {},
   "outputs": [],
   "source": [
    "EmbroD5=[] #parse day 5\n",
    "for line in E5: \n",
    "    if \"track\" in line: # modify header\n",
    "        continue\n",
    "    else: #all the other lines\n",
    "        line = line.split() # split by blanks \n",
    "        EmbroD5.append(line) #append back to a list\n",
    "E5.close()"
   ]
  },
  {
   "cell_type": "code",
   "execution_count": 126,
   "metadata": {},
   "outputs": [],
   "source": [
    "#create a dictionary of unique gene names using the 13th column as gene name and pointing to coordiants\n",
    "unique_genes = {}\n",
    "for line in Ref:\n",
    "    gene_coord = list(map(int,line.split()[4:6])) #slpit on blanks by coodinants\n",
    "    gene_name = line.split()[12] #split within the 13th column\n",
    "    if gene_name not in unique_genes: #if key not found in dict\n",
    "        unique_genes[gene_name] = gene_coord #add new key pointing to the coordinates\n",
    "#print(unique_genes)\n",
    "Ref.close()"
   ]
  },
  {
   "cell_type": "code",
   "execution_count": 123,
   "metadata": {},
   "outputs": [],
   "source": [
    "def methylation_count(Embro, search_range): #use input of bedgraph data : Embro; list of genes: search_range\n",
    "    meth_score = 0 # begin tally for the total meth\n",
    "    count = 0 # count the number of sites\n",
    "    for line in Embro:\n",
    "        meth_range = list(map(int,line[1:3])) # nuc location\n",
    "        score = float(line[3]) # Find score at cg site\n",
    "        if meth_range[1]>=search_range[0] and meth_range[1]<=search_range[1]: # Is the location inside the gene?\n",
    "            meth_score += score #add score of loci to total score\n",
    "            count+=1 #iterate denominator\n",
    "    if count != 0:\n",
    "        return meth_score/count # Create an average\n",
    "    else:\n",
    "        return 0 # If there is no count add 0"
   ]
  },
  {
   "cell_type": "code",
   "execution_count": null,
   "metadata": {},
   "outputs": [],
   "source": []
  },
  {
   "cell_type": "code",
   "execution_count": 129,
   "metadata": {},
   "outputs": [],
   "source": [
    "# Maps genes to fold change from e4 to e5.5\n",
    "foldC = open(\"foldchange.txt\", \"a\")\n",
    "D4_avg = open(\"day4_avg_meth.txt\", \"a\")\n",
    "D5_avg = open(\"day5_avg_meth.txt\", \"a\")\n",
    "\n",
    "\n",
    "for gene, coords in unique_genes.items(): #using the unique gene as a search reference - find methlation scores in each geen\n",
    "    methscoresD4 = methylation_count(EmbroD4,coords) #write a score day 4 file \n",
    "    D4_avg.write(gene+ \":\\t\"+str(methscoresD4))\n",
    "    D4_avg.write('\\n')\n",
    "    \n",
    "    methscoresD5 = methylation_count(EmbroD5,coords)#write a score day 4 file \n",
    "    D5_avg.write(gene+ \":\\t\"+str(methscoresD5))\n",
    "    D5_avg.write('\\n')\n",
    "    \n",
    "    if methscoresD4 !=0: #only if methalation day 4 gene has a score - determine a fold change score\n",
    "        foldC.write(gene+ \":\\t\"+str((methscoresD5-methscoresD4)/methscoresD4))\n",
    "        foldC.write('\\n')\n",
    "\n",
    "        \n",
    "#Close all the created files\n",
    "foldC.close()\n",
    "D4_avg.close()\n",
    "D5_avg.close()"
   ]
  },
  {
   "cell_type": "code",
   "execution_count": null,
   "metadata": {},
   "outputs": [],
   "source": []
  }
 ],
 "metadata": {
  "kernelspec": {
   "display_name": "Python 3",
   "language": "python",
   "name": "python3"
  },
  "language_info": {
   "codemirror_mode": {
    "name": "ipython",
    "version": 3
   },
   "file_extension": ".py",
   "mimetype": "text/x-python",
   "name": "python",
   "nbconvert_exporter": "python",
   "pygments_lexer": "ipython3",
   "version": "3.6.10"
  }
 },
 "nbformat": 4,
 "nbformat_minor": 4
}
