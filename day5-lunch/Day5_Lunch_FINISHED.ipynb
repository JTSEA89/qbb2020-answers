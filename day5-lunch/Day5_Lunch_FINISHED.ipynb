{
 "cells": [
  {
   "cell_type": "code",
   "execution_count": 27,
   "metadata": {},
   "outputs": [],
   "source": [
    "import numpy as np\n",
    "import pandas as pd\n",
    "import matplotlib.pyplot as plt\n",
    "\n",
    "from scipy import stats\n",
    "import statsmodels.formula.api as smf\n",
    "import statsmodels.api as sm"
   ]
  },
  {
   "cell_type": "markdown",
   "metadata": {},
   "source": [
    "## 1-4: Wrangle dem data!"
   ]
  },
  {
   "cell_type": "code",
   "execution_count": 28,
   "metadata": {},
   "outputs": [],
   "source": [
    "df_cross = pd.read_csv('aau1043_dnm.tsv')\n",
    "df_age = pd.read_csv('aau1043_parental_age.tsv')"
   ]
  },
  {
   "cell_type": "code",
   "execution_count": 23,
   "metadata": {},
   "outputs": [
    {
     "data": {
      "text/plain": [
       "Proband_id  Phase_combined\n",
       "675         father            51\n",
       "            mother            19\n",
       "1097        father            26\n",
       "            mother            12\n",
       "1230        father            42\n",
       "                              ..\n",
       "154621      mother            11\n",
       "154810      father            55\n",
       "            mother            14\n",
       "154936      father            36\n",
       "            mother            16\n",
       "Name: Phase_combined, Length: 792, dtype: int64"
      ]
     },
     "execution_count": 23,
     "metadata": {},
     "output_type": "execute_result"
    }
   ],
   "source": [
    "df_new = df_cross.drop([\"Chr\", \"Pos\", \"Ref\", \"Alt\", \"Sanger\"], axis = 1)\n",
    "df_pro = pd.DataFrame(df_new.value_counts('Proband_id'))\n",
    "df_pro.rename(columns={\"0\" : \"Count\"})\n",
    "df_pro\n",
    "\n",
    "#df_pro.rename_axis().res_index(name=)\n",
    "df_cross.groupby('Proband_id')['Phase_combined'].value_counts()"
   ]
  },
  {
   "cell_type": "code",
   "execution_count": 31,
   "metadata": {},
   "outputs": [
    {
     "data": {
      "text/html": [
       "<div>\n",
       "<style scoped>\n",
       "    .dataframe tbody tr th:only-of-type {\n",
       "        vertical-align: middle;\n",
       "    }\n",
       "\n",
       "    .dataframe tbody tr th {\n",
       "        vertical-align: top;\n",
       "    }\n",
       "\n",
       "    .dataframe thead th {\n",
       "        text-align: right;\n",
       "    }\n",
       "</style>\n",
       "<table border=\"1\" class=\"dataframe\">\n",
       "  <thead>\n",
       "    <tr style=\"text-align: right;\">\n",
       "      <th></th>\n",
       "      <th>Proband_id</th>\n",
       "      <th>pat_dnm</th>\n",
       "    </tr>\n",
       "  </thead>\n",
       "  <tbody>\n",
       "    <tr>\n",
       "      <th>0</th>\n",
       "      <td>91410</td>\n",
       "      <td>111</td>\n",
       "    </tr>\n",
       "    <tr>\n",
       "      <th>1</th>\n",
       "      <td>114094</td>\n",
       "      <td>98</td>\n",
       "    </tr>\n",
       "    <tr>\n",
       "      <th>2</th>\n",
       "      <td>111288</td>\n",
       "      <td>93</td>\n",
       "    </tr>\n",
       "    <tr>\n",
       "      <th>3</th>\n",
       "      <td>99984</td>\n",
       "      <td>91</td>\n",
       "    </tr>\n",
       "    <tr>\n",
       "      <th>4</th>\n",
       "      <td>64166</td>\n",
       "      <td>88</td>\n",
       "    </tr>\n",
       "  </tbody>\n",
       "</table>\n",
       "</div>"
      ],
      "text/plain": [
       "   Proband_id  pat_dnm\n",
       "0       91410      111\n",
       "1      114094       98\n",
       "2      111288       93\n",
       "3       99984       91\n",
       "4       64166       88"
      ]
     },
     "execution_count": 31,
     "metadata": {},
     "output_type": "execute_result"
    }
   ],
   "source": [
    "df_mother = pd.DataFrame(df_cross[df_cross['Phase_combined']==\"mother\"][\"Proband_id\"].value_counts().rename_axis([\"Proband_id\"]).reset_index(name = 'mat_dnm'))\n",
    "df_father = pd.DataFrame(df_cross[df_cross['Phase_combined']==\"father\"][\"Proband_id\"].value_counts().rename_axis([\"Proband_id\"]).reset_index(name = 'pat_dnm'))\n",
    "df_father.head()"
   ]
  },
  {
   "cell_type": "code",
   "execution_count": 32,
   "metadata": {},
   "outputs": [
    {
     "data": {
      "text/html": [
       "<div>\n",
       "<style scoped>\n",
       "    .dataframe tbody tr th:only-of-type {\n",
       "        vertical-align: middle;\n",
       "    }\n",
       "\n",
       "    .dataframe tbody tr th {\n",
       "        vertical-align: top;\n",
       "    }\n",
       "\n",
       "    .dataframe thead th {\n",
       "        text-align: right;\n",
       "    }\n",
       "</style>\n",
       "<table border=\"1\" class=\"dataframe\">\n",
       "  <thead>\n",
       "    <tr style=\"text-align: right;\">\n",
       "      <th></th>\n",
       "      <th>Proband_id</th>\n",
       "      <th>tot_dnm</th>\n",
       "    </tr>\n",
       "  </thead>\n",
       "  <tbody>\n",
       "    <tr>\n",
       "      <th>0</th>\n",
       "      <td>91410</td>\n",
       "      <td>122</td>\n",
       "    </tr>\n",
       "    <tr>\n",
       "      <th>1</th>\n",
       "      <td>114094</td>\n",
       "      <td>121</td>\n",
       "    </tr>\n",
       "    <tr>\n",
       "      <th>2</th>\n",
       "      <td>111288</td>\n",
       "      <td>115</td>\n",
       "    </tr>\n",
       "    <tr>\n",
       "      <th>3</th>\n",
       "      <td>8147</td>\n",
       "      <td>114</td>\n",
       "    </tr>\n",
       "    <tr>\n",
       "      <th>4</th>\n",
       "      <td>88246</td>\n",
       "      <td>113</td>\n",
       "    </tr>\n",
       "    <tr>\n",
       "      <th>...</th>\n",
       "      <td>...</td>\n",
       "      <td>...</td>\n",
       "    </tr>\n",
       "    <tr>\n",
       "      <th>391</th>\n",
       "      <td>121087</td>\n",
       "      <td>37</td>\n",
       "    </tr>\n",
       "    <tr>\n",
       "      <th>392</th>\n",
       "      <td>62630</td>\n",
       "      <td>34</td>\n",
       "    </tr>\n",
       "    <tr>\n",
       "      <th>393</th>\n",
       "      <td>76504</td>\n",
       "      <td>34</td>\n",
       "    </tr>\n",
       "    <tr>\n",
       "      <th>394</th>\n",
       "      <td>37789</td>\n",
       "      <td>34</td>\n",
       "    </tr>\n",
       "    <tr>\n",
       "      <th>395</th>\n",
       "      <td>13990</td>\n",
       "      <td>33</td>\n",
       "    </tr>\n",
       "  </tbody>\n",
       "</table>\n",
       "<p>396 rows × 2 columns</p>\n",
       "</div>"
      ],
      "text/plain": [
       "     Proband_id  tot_dnm\n",
       "0         91410      122\n",
       "1        114094      121\n",
       "2        111288      115\n",
       "3          8147      114\n",
       "4         88246      113\n",
       "..          ...      ...\n",
       "391      121087       37\n",
       "392       62630       34\n",
       "393       76504       34\n",
       "394       37789       34\n",
       "395       13990       33\n",
       "\n",
       "[396 rows x 2 columns]"
      ]
     },
     "execution_count": 32,
     "metadata": {},
     "output_type": "execute_result"
    }
   ],
   "source": [
    "df_tot = pd.DataFrame(df_cross.Proband_id.value_counts().rename_axis([\"Proband_id\"]).reset_index(name = 'tot_dnm'))\n",
    "df_tot"
   ]
  },
  {
   "cell_type": "code",
   "execution_count": null,
   "metadata": {},
   "outputs": [],
   "source": [
    "# merge data frames"
   ]
  },
  {
   "cell_type": "code",
   "execution_count": 34,
   "metadata": {},
   "outputs": [
    {
     "data": {
      "text/html": [
       "<div>\n",
       "<style scoped>\n",
       "    .dataframe tbody tr th:only-of-type {\n",
       "        vertical-align: middle;\n",
       "    }\n",
       "\n",
       "    .dataframe tbody tr th {\n",
       "        vertical-align: top;\n",
       "    }\n",
       "\n",
       "    .dataframe thead th {\n",
       "        text-align: right;\n",
       "    }\n",
       "</style>\n",
       "<table border=\"1\" class=\"dataframe\">\n",
       "  <thead>\n",
       "    <tr style=\"text-align: right;\">\n",
       "      <th></th>\n",
       "      <th>Proband_id</th>\n",
       "      <th>pat_dnm</th>\n",
       "      <th>mat_dnm</th>\n",
       "    </tr>\n",
       "  </thead>\n",
       "  <tbody>\n",
       "    <tr>\n",
       "      <th>0</th>\n",
       "      <td>91410</td>\n",
       "      <td>111</td>\n",
       "      <td>10</td>\n",
       "    </tr>\n",
       "    <tr>\n",
       "      <th>1</th>\n",
       "      <td>114094</td>\n",
       "      <td>98</td>\n",
       "      <td>22</td>\n",
       "    </tr>\n",
       "    <tr>\n",
       "      <th>2</th>\n",
       "      <td>111288</td>\n",
       "      <td>93</td>\n",
       "      <td>21</td>\n",
       "    </tr>\n",
       "    <tr>\n",
       "      <th>3</th>\n",
       "      <td>99984</td>\n",
       "      <td>91</td>\n",
       "      <td>12</td>\n",
       "    </tr>\n",
       "    <tr>\n",
       "      <th>4</th>\n",
       "      <td>64166</td>\n",
       "      <td>88</td>\n",
       "      <td>16</td>\n",
       "    </tr>\n",
       "    <tr>\n",
       "      <th>...</th>\n",
       "      <td>...</td>\n",
       "      <td>...</td>\n",
       "      <td>...</td>\n",
       "    </tr>\n",
       "    <tr>\n",
       "      <th>391</th>\n",
       "      <td>76504</td>\n",
       "      <td>27</td>\n",
       "      <td>5</td>\n",
       "    </tr>\n",
       "    <tr>\n",
       "      <th>392</th>\n",
       "      <td>1097</td>\n",
       "      <td>26</td>\n",
       "      <td>12</td>\n",
       "    </tr>\n",
       "    <tr>\n",
       "      <th>393</th>\n",
       "      <td>13990</td>\n",
       "      <td>25</td>\n",
       "      <td>7</td>\n",
       "    </tr>\n",
       "    <tr>\n",
       "      <th>394</th>\n",
       "      <td>36430</td>\n",
       "      <td>25</td>\n",
       "      <td>16</td>\n",
       "    </tr>\n",
       "    <tr>\n",
       "      <th>395</th>\n",
       "      <td>37789</td>\n",
       "      <td>17</td>\n",
       "      <td>3</td>\n",
       "    </tr>\n",
       "  </tbody>\n",
       "</table>\n",
       "<p>396 rows × 3 columns</p>\n",
       "</div>"
      ],
      "text/plain": [
       "     Proband_id  pat_dnm  mat_dnm\n",
       "0         91410      111       10\n",
       "1        114094       98       22\n",
       "2        111288       93       21\n",
       "3         99984       91       12\n",
       "4         64166       88       16\n",
       "..          ...      ...      ...\n",
       "391       76504       27        5\n",
       "392        1097       26       12\n",
       "393       13990       25        7\n",
       "394       36430       25       16\n",
       "395       37789       17        3\n",
       "\n",
       "[396 rows x 3 columns]"
      ]
     },
     "execution_count": 34,
     "metadata": {},
     "output_type": "execute_result"
    }
   ],
   "source": [
    "df_intermediate = df_father.merge(df_mother, on=\"Proband_id\")\n",
    "df_intermediate"
   ]
  },
  {
   "cell_type": "code",
   "execution_count": 36,
   "metadata": {},
   "outputs": [
    {
     "data": {
      "text/html": [
       "<div>\n",
       "<style scoped>\n",
       "    .dataframe tbody tr th:only-of-type {\n",
       "        vertical-align: middle;\n",
       "    }\n",
       "\n",
       "    .dataframe tbody tr th {\n",
       "        vertical-align: top;\n",
       "    }\n",
       "\n",
       "    .dataframe thead th {\n",
       "        text-align: right;\n",
       "    }\n",
       "</style>\n",
       "<table border=\"1\" class=\"dataframe\">\n",
       "  <thead>\n",
       "    <tr style=\"text-align: right;\">\n",
       "      <th></th>\n",
       "      <th>Proband_id</th>\n",
       "      <th>pat_dnm</th>\n",
       "      <th>mat_dnm</th>\n",
       "      <th>tot_dnm</th>\n",
       "    </tr>\n",
       "  </thead>\n",
       "  <tbody>\n",
       "    <tr>\n",
       "      <th>0</th>\n",
       "      <td>91410</td>\n",
       "      <td>111</td>\n",
       "      <td>10</td>\n",
       "      <td>122</td>\n",
       "    </tr>\n",
       "    <tr>\n",
       "      <th>1</th>\n",
       "      <td>114094</td>\n",
       "      <td>98</td>\n",
       "      <td>22</td>\n",
       "      <td>121</td>\n",
       "    </tr>\n",
       "    <tr>\n",
       "      <th>2</th>\n",
       "      <td>111288</td>\n",
       "      <td>93</td>\n",
       "      <td>21</td>\n",
       "      <td>115</td>\n",
       "    </tr>\n",
       "    <tr>\n",
       "      <th>3</th>\n",
       "      <td>99984</td>\n",
       "      <td>91</td>\n",
       "      <td>12</td>\n",
       "      <td>103</td>\n",
       "    </tr>\n",
       "    <tr>\n",
       "      <th>4</th>\n",
       "      <td>64166</td>\n",
       "      <td>88</td>\n",
       "      <td>16</td>\n",
       "      <td>105</td>\n",
       "    </tr>\n",
       "    <tr>\n",
       "      <th>...</th>\n",
       "      <td>...</td>\n",
       "      <td>...</td>\n",
       "      <td>...</td>\n",
       "      <td>...</td>\n",
       "    </tr>\n",
       "    <tr>\n",
       "      <th>391</th>\n",
       "      <td>76504</td>\n",
       "      <td>27</td>\n",
       "      <td>5</td>\n",
       "      <td>34</td>\n",
       "    </tr>\n",
       "    <tr>\n",
       "      <th>392</th>\n",
       "      <td>1097</td>\n",
       "      <td>26</td>\n",
       "      <td>12</td>\n",
       "      <td>39</td>\n",
       "    </tr>\n",
       "    <tr>\n",
       "      <th>393</th>\n",
       "      <td>13990</td>\n",
       "      <td>25</td>\n",
       "      <td>7</td>\n",
       "      <td>33</td>\n",
       "    </tr>\n",
       "    <tr>\n",
       "      <th>394</th>\n",
       "      <td>36430</td>\n",
       "      <td>25</td>\n",
       "      <td>16</td>\n",
       "      <td>42</td>\n",
       "    </tr>\n",
       "    <tr>\n",
       "      <th>395</th>\n",
       "      <td>37789</td>\n",
       "      <td>17</td>\n",
       "      <td>3</td>\n",
       "      <td>34</td>\n",
       "    </tr>\n",
       "  </tbody>\n",
       "</table>\n",
       "<p>396 rows × 4 columns</p>\n",
       "</div>"
      ],
      "text/plain": [
       "     Proband_id  pat_dnm  mat_dnm  tot_dnm\n",
       "0         91410      111       10      122\n",
       "1        114094       98       22      121\n",
       "2        111288       93       21      115\n",
       "3         99984       91       12      103\n",
       "4         64166       88       16      105\n",
       "..          ...      ...      ...      ...\n",
       "391       76504       27        5       34\n",
       "392        1097       26       12       39\n",
       "393       13990       25        7       33\n",
       "394       36430       25       16       42\n",
       "395       37789       17        3       34\n",
       "\n",
       "[396 rows x 4 columns]"
      ]
     },
     "execution_count": 36,
     "metadata": {},
     "output_type": "execute_result"
    }
   ],
   "source": [
    "df_final = df_intermediate.merge(df_tot, on=\"Proband_id\")\n",
    "df_final"
   ]
  },
  {
   "cell_type": "code",
   "execution_count": 37,
   "metadata": {},
   "outputs": [
    {
     "data": {
      "text/html": [
       "<div>\n",
       "<style scoped>\n",
       "    .dataframe tbody tr th:only-of-type {\n",
       "        vertical-align: middle;\n",
       "    }\n",
       "\n",
       "    .dataframe tbody tr th {\n",
       "        vertical-align: top;\n",
       "    }\n",
       "\n",
       "    .dataframe thead th {\n",
       "        text-align: right;\n",
       "    }\n",
       "</style>\n",
       "<table border=\"1\" class=\"dataframe\">\n",
       "  <thead>\n",
       "    <tr style=\"text-align: right;\">\n",
       "      <th></th>\n",
       "      <th>Proband_id</th>\n",
       "      <th>pat_dnm</th>\n",
       "      <th>mat_dnm</th>\n",
       "      <th>tot_dnm</th>\n",
       "      <th>Father_age</th>\n",
       "      <th>Mother_age</th>\n",
       "    </tr>\n",
       "  </thead>\n",
       "  <tbody>\n",
       "    <tr>\n",
       "      <th>0</th>\n",
       "      <td>91410</td>\n",
       "      <td>111</td>\n",
       "      <td>10</td>\n",
       "      <td>122</td>\n",
       "      <td>51</td>\n",
       "      <td>34</td>\n",
       "    </tr>\n",
       "    <tr>\n",
       "      <th>1</th>\n",
       "      <td>114094</td>\n",
       "      <td>98</td>\n",
       "      <td>22</td>\n",
       "      <td>121</td>\n",
       "      <td>51</td>\n",
       "      <td>44</td>\n",
       "    </tr>\n",
       "    <tr>\n",
       "      <th>2</th>\n",
       "      <td>111288</td>\n",
       "      <td>93</td>\n",
       "      <td>21</td>\n",
       "      <td>115</td>\n",
       "      <td>53</td>\n",
       "      <td>44</td>\n",
       "    </tr>\n",
       "    <tr>\n",
       "      <th>3</th>\n",
       "      <td>99984</td>\n",
       "      <td>91</td>\n",
       "      <td>12</td>\n",
       "      <td>103</td>\n",
       "      <td>51</td>\n",
       "      <td>41</td>\n",
       "    </tr>\n",
       "    <tr>\n",
       "      <th>4</th>\n",
       "      <td>64166</td>\n",
       "      <td>88</td>\n",
       "      <td>16</td>\n",
       "      <td>105</td>\n",
       "      <td>41</td>\n",
       "      <td>40</td>\n",
       "    </tr>\n",
       "    <tr>\n",
       "      <th>...</th>\n",
       "      <td>...</td>\n",
       "      <td>...</td>\n",
       "      <td>...</td>\n",
       "      <td>...</td>\n",
       "      <td>...</td>\n",
       "      <td>...</td>\n",
       "    </tr>\n",
       "    <tr>\n",
       "      <th>391</th>\n",
       "      <td>76504</td>\n",
       "      <td>27</td>\n",
       "      <td>5</td>\n",
       "      <td>34</td>\n",
       "      <td>19</td>\n",
       "      <td>17</td>\n",
       "    </tr>\n",
       "    <tr>\n",
       "      <th>392</th>\n",
       "      <td>1097</td>\n",
       "      <td>26</td>\n",
       "      <td>12</td>\n",
       "      <td>39</td>\n",
       "      <td>19</td>\n",
       "      <td>19</td>\n",
       "    </tr>\n",
       "    <tr>\n",
       "      <th>393</th>\n",
       "      <td>13990</td>\n",
       "      <td>25</td>\n",
       "      <td>7</td>\n",
       "      <td>33</td>\n",
       "      <td>16</td>\n",
       "      <td>17</td>\n",
       "    </tr>\n",
       "    <tr>\n",
       "      <th>394</th>\n",
       "      <td>36430</td>\n",
       "      <td>25</td>\n",
       "      <td>16</td>\n",
       "      <td>42</td>\n",
       "      <td>35</td>\n",
       "      <td>26</td>\n",
       "    </tr>\n",
       "    <tr>\n",
       "      <th>395</th>\n",
       "      <td>37789</td>\n",
       "      <td>17</td>\n",
       "      <td>3</td>\n",
       "      <td>34</td>\n",
       "      <td>19</td>\n",
       "      <td>19</td>\n",
       "    </tr>\n",
       "  </tbody>\n",
       "</table>\n",
       "<p>396 rows × 6 columns</p>\n",
       "</div>"
      ],
      "text/plain": [
       "     Proband_id  pat_dnm  mat_dnm  tot_dnm  Father_age  Mother_age\n",
       "0         91410      111       10      122          51          34\n",
       "1        114094       98       22      121          51          44\n",
       "2        111288       93       21      115          53          44\n",
       "3         99984       91       12      103          51          41\n",
       "4         64166       88       16      105          41          40\n",
       "..          ...      ...      ...      ...         ...         ...\n",
       "391       76504       27        5       34          19          17\n",
       "392        1097       26       12       39          19          19\n",
       "393       13990       25        7       33          16          17\n",
       "394       36430       25       16       42          35          26\n",
       "395       37789       17        3       34          19          19\n",
       "\n",
       "[396 rows x 6 columns]"
      ]
     },
     "execution_count": 37,
     "metadata": {},
     "output_type": "execute_result"
    }
   ],
   "source": [
    "df_reg = df_final.merge(df_age, on=\"Proband_id\")\n",
    "df_reg"
   ]
  },
  {
   "cell_type": "markdown",
   "metadata": {},
   "source": [
    "## 5: Plot maternal mutations vs age and paternal mutations vs age"
   ]
  },
  {
   "cell_type": "code",
   "execution_count": 56,
   "metadata": {
    "scrolled": true
   },
   "outputs": [
    {
     "data": {
      "text/plain": [
       "<matplotlib.legend.Legend at 0x7fe90a09dc18>"
      ]
     },
     "execution_count": 56,
     "metadata": {},
     "output_type": "execute_result"
    },
    {
     "data": {
      "image/png": "[encoded data removed]",
      "text/plain": [
       "<Figure size 432x288 with 1 Axes>"
      ]
     },
     "metadata": {
      "needs_background": "light"
     },
     "output_type": "display_data"
    }
   ],
   "source": [
    "fig, ax = plt.subplots()\n",
    "ax.scatter(df_reg['mat_dnm'], df_reg['Mother_age'], alpha = 0.5, label = 'Mother')\n",
    "ax.scatter(df_reg['pat_dnm'], df_reg['Father_age'], alpha = 0.5, label = 'Father')\n",
    "ax.set_title('age vs mutations')\n",
    "ax.set_xlabel('Maternal de Novo Mutations')\n",
    "ax.set_ylabel('age')\n",
    "plt.legend()\n"
   ]
  },
  {
   "cell_type": "markdown",
   "metadata": {},
   "source": [
    "## 6:evaluate using ordinary least squares to evaluate maternal age and inherited denovo mutations"
   ]
  },
  {
   "cell_type": "code",
   "execution_count": 47,
   "metadata": {},
   "outputs": [
    {
     "data": {
      "text/html": [
       "<table class=\"simpletable\">\n",
       "<caption>OLS Regression Results</caption>\n",
       "<tr>\n",
       "  <th>Dep. Variable:</th>         <td>mat_dnm</td>     <th>  R-squared:         </th> <td>   0.228</td>\n",
       "</tr>\n",
       "<tr>\n",
       "  <th>Model:</th>                   <td>OLS</td>       <th>  Adj. R-squared:    </th> <td>   0.226</td>\n",
       "</tr>\n",
       "<tr>\n",
       "  <th>Method:</th>             <td>Least Squares</td>  <th>  F-statistic:       </th> <td>   116.0</td>\n",
       "</tr>\n",
       "<tr>\n",
       "  <th>Date:</th>             <td>Fri, 04 Sep 2020</td> <th>  Prob (F-statistic):</th> <td>6.88e-24</td>\n",
       "</tr>\n",
       "<tr>\n",
       "  <th>Time:</th>                 <td>14:41:53</td>     <th>  Log-Likelihood:    </th> <td> -1158.1</td>\n",
       "</tr>\n",
       "<tr>\n",
       "  <th>No. Observations:</th>      <td>   396</td>      <th>  AIC:               </th> <td>   2320.</td>\n",
       "</tr>\n",
       "<tr>\n",
       "  <th>Df Residuals:</th>          <td>   394</td>      <th>  BIC:               </th> <td>   2328.</td>\n",
       "</tr>\n",
       "<tr>\n",
       "  <th>Df Model:</th>              <td>     1</td>      <th>                     </th>     <td> </td>   \n",
       "</tr>\n",
       "<tr>\n",
       "  <th>Covariance Type:</th>      <td>nonrobust</td>    <th>                     </th>     <td> </td>   \n",
       "</tr>\n",
       "</table>\n",
       "<table class=\"simpletable\">\n",
       "<tr>\n",
       "       <td></td>         <th>coef</th>     <th>std err</th>      <th>t</th>      <th>P>|t|</th>  <th>[0.025</th>    <th>0.975]</th>  \n",
       "</tr>\n",
       "<tr>\n",
       "  <th>Intercept</th>  <td>    2.5040</td> <td>    0.981</td> <td>    2.553</td> <td> 0.011</td> <td>    0.576</td> <td>    4.432</td>\n",
       "</tr>\n",
       "<tr>\n",
       "  <th>Mother_age</th> <td>    0.3776</td> <td>    0.035</td> <td>   10.772</td> <td> 0.000</td> <td>    0.309</td> <td>    0.446</td>\n",
       "</tr>\n",
       "</table>\n",
       "<table class=\"simpletable\">\n",
       "<tr>\n",
       "  <th>Omnibus:</th>       <td>51.143</td> <th>  Durbin-Watson:     </th> <td>   1.892</td>\n",
       "</tr>\n",
       "<tr>\n",
       "  <th>Prob(Omnibus):</th> <td> 0.000</td> <th>  Jarque-Bera (JB):  </th> <td>  75.501</td>\n",
       "</tr>\n",
       "<tr>\n",
       "  <th>Skew:</th>          <td> 0.845</td> <th>  Prob(JB):          </th> <td>4.03e-17</td>\n",
       "</tr>\n",
       "<tr>\n",
       "  <th>Kurtosis:</th>      <td> 4.310</td> <th>  Cond. No.          </th> <td>    121.</td>\n",
       "</tr>\n",
       "</table><br/><br/>Notes:<br/>[1] Standard Errors assume that the covariance matrix of the errors is correctly specified."
      ],
      "text/plain": [
       "<class 'statsmodels.iolib.summary.Summary'>\n",
       "\"\"\"\n",
       "                            OLS Regression Results                            \n",
       "==============================================================================\n",
       "Dep. Variable:                mat_dnm   R-squared:                       0.228\n",
       "Model:                            OLS   Adj. R-squared:                  0.226\n",
       "Method:                 Least Squares   F-statistic:                     116.0\n",
       "Date:                Fri, 04 Sep 2020   Prob (F-statistic):           6.88e-24\n",
       "Time:                        14:41:53   Log-Likelihood:                -1158.1\n",
       "No. Observations:                 396   AIC:                             2320.\n",
       "Df Residuals:                     394   BIC:                             2328.\n",
       "Df Model:                           1                                         \n",
       "Covariance Type:            nonrobust                                         \n",
       "==============================================================================\n",
       "                 coef    std err          t      P>|t|      [0.025      0.975]\n",
       "------------------------------------------------------------------------------\n",
       "Intercept      2.5040      0.981      2.553      0.011       0.576       4.432\n",
       "Mother_age     0.3776      0.035     10.772      0.000       0.309       0.446\n",
       "==============================================================================\n",
       "Omnibus:                       51.143   Durbin-Watson:                   1.892\n",
       "Prob(Omnibus):                  0.000   Jarque-Bera (JB):               75.501\n",
       "Skew:                           0.845   Prob(JB):                     4.03e-17\n",
       "Kurtosis:                       4.310   Cond. No.                         121.\n",
       "==============================================================================\n",
       "\n",
       "Notes:\n",
       "[1] Standard Errors assume that the covariance matrix of the errors is correctly specified.\n",
       "\"\"\""
      ]
     },
     "execution_count": 47,
     "metadata": {},
     "output_type": "execute_result"
    }
   ],
   "source": [
    "model = smf.ols(formula = 'mat_dnm ~ 1 + Mother_age', data = df_reg)\n",
    "results = model.fit()\n",
    "results.summary()"
   ]
  },
  {
   "cell_type": "markdown",
   "metadata": {},
   "source": [
    "## 7: evaluate using ordinary least squares to evaluate paternal age and inherited denovo mutations"
   ]
  },
  {
   "cell_type": "code",
   "execution_count": 48,
   "metadata": {},
   "outputs": [
    {
     "data": {
      "text/html": [
       "<table class=\"simpletable\">\n",
       "<caption>OLS Regression Results</caption>\n",
       "<tr>\n",
       "  <th>Dep. Variable:</th>         <td>pat_dnm</td>     <th>  R-squared:         </th> <td>   0.619</td>\n",
       "</tr>\n",
       "<tr>\n",
       "  <th>Model:</th>                   <td>OLS</td>       <th>  Adj. R-squared:    </th> <td>   0.618</td>\n",
       "</tr>\n",
       "<tr>\n",
       "  <th>Method:</th>             <td>Least Squares</td>  <th>  F-statistic:       </th> <td>   639.6</td>\n",
       "</tr>\n",
       "<tr>\n",
       "  <th>Date:</th>             <td>Fri, 04 Sep 2020</td> <th>  Prob (F-statistic):</th> <td>1.55e-84</td>\n",
       "</tr>\n",
       "<tr>\n",
       "  <th>Time:</th>                 <td>14:41:53</td>     <th>  Log-Likelihood:    </th> <td> -1406.6</td>\n",
       "</tr>\n",
       "<tr>\n",
       "  <th>No. Observations:</th>      <td>   396</td>      <th>  AIC:               </th> <td>   2817.</td>\n",
       "</tr>\n",
       "<tr>\n",
       "  <th>Df Residuals:</th>          <td>   394</td>      <th>  BIC:               </th> <td>   2825.</td>\n",
       "</tr>\n",
       "<tr>\n",
       "  <th>Df Model:</th>              <td>     1</td>      <th>                     </th>     <td> </td>   \n",
       "</tr>\n",
       "<tr>\n",
       "  <th>Covariance Type:</th>      <td>nonrobust</td>    <th>                     </th>     <td> </td>   \n",
       "</tr>\n",
       "</table>\n",
       "<table class=\"simpletable\">\n",
       "<tr>\n",
       "       <td></td>         <th>coef</th>     <th>std err</th>      <th>t</th>      <th>P>|t|</th>  <th>[0.025</th>    <th>0.975]</th>  \n",
       "</tr>\n",
       "<tr>\n",
       "  <th>Intercept</th>  <td>   10.3263</td> <td>    1.702</td> <td>    6.066</td> <td> 0.000</td> <td>    6.979</td> <td>   13.673</td>\n",
       "</tr>\n",
       "<tr>\n",
       "  <th>Father_age</th> <td>    1.3538</td> <td>    0.054</td> <td>   25.291</td> <td> 0.000</td> <td>    1.249</td> <td>    1.459</td>\n",
       "</tr>\n",
       "</table>\n",
       "<table class=\"simpletable\">\n",
       "<tr>\n",
       "  <th>Omnibus:</th>       <td> 7.687</td> <th>  Durbin-Watson:     </th> <td>   1.183</td>\n",
       "</tr>\n",
       "<tr>\n",
       "  <th>Prob(Omnibus):</th> <td> 0.021</td> <th>  Jarque-Bera (JB):  </th> <td>   8.185</td>\n",
       "</tr>\n",
       "<tr>\n",
       "  <th>Skew:</th>          <td> 0.256</td> <th>  Prob(JB):          </th> <td>  0.0167</td>\n",
       "</tr>\n",
       "<tr>\n",
       "  <th>Kurtosis:</th>      <td> 3.483</td> <th>  Cond. No.          </th> <td>    127.</td>\n",
       "</tr>\n",
       "</table><br/><br/>Notes:<br/>[1] Standard Errors assume that the covariance matrix of the errors is correctly specified."
      ],
      "text/plain": [
       "<class 'statsmodels.iolib.summary.Summary'>\n",
       "\"\"\"\n",
       "                            OLS Regression Results                            \n",
       "==============================================================================\n",
       "Dep. Variable:                pat_dnm   R-squared:                       0.619\n",
       "Model:                            OLS   Adj. R-squared:                  0.618\n",
       "Method:                 Least Squares   F-statistic:                     639.6\n",
       "Date:                Fri, 04 Sep 2020   Prob (F-statistic):           1.55e-84\n",
       "Time:                        14:41:53   Log-Likelihood:                -1406.6\n",
       "No. Observations:                 396   AIC:                             2817.\n",
       "Df Residuals:                     394   BIC:                             2825.\n",
       "Df Model:                           1                                         \n",
       "Covariance Type:            nonrobust                                         \n",
       "==============================================================================\n",
       "                 coef    std err          t      P>|t|      [0.025      0.975]\n",
       "------------------------------------------------------------------------------\n",
       "Intercept     10.3263      1.702      6.066      0.000       6.979      13.673\n",
       "Father_age     1.3538      0.054     25.291      0.000       1.249       1.459\n",
       "==============================================================================\n",
       "Omnibus:                        7.687   Durbin-Watson:                   1.183\n",
       "Prob(Omnibus):                  0.021   Jarque-Bera (JB):                8.185\n",
       "Skew:                           0.256   Prob(JB):                       0.0167\n",
       "Kurtosis:                       3.483   Cond. No.                         127.\n",
       "==============================================================================\n",
       "\n",
       "Notes:\n",
       "[1] Standard Errors assume that the covariance matrix of the errors is correctly specified.\n",
       "\"\"\""
      ]
     },
     "execution_count": 48,
     "metadata": {},
     "output_type": "execute_result"
    }
   ],
   "source": [
    "model1 = smf.ols(formula = 'pat_dnm ~ 1 + Father_age', data = df_reg)\n",
    "results = model1.fit()\n",
    "results.summary()"
   ]
  },
  {
   "cell_type": "markdown",
   "metadata": {},
   "source": [
    "## 8: plot a histogram"
   ]
  },
  {
   "cell_type": "code",
   "execution_count": 55,
   "metadata": {},
   "outputs": [
    {
     "data": {
      "image/png": "[encoded data removed]",
      "text/plain": [
       "<Figure size 432x288 with 1 Axes>"
      ]
     },
     "metadata": {
      "needs_background": "light"
     },
     "output_type": "display_data"
    }
   ],
   "source": [
    "fig, ax = plt.subplots()\n",
    "ax.hist(df_reg[\"mat_dnm\"], label = \"female\", bins = 30, alpha = 0.5)\n",
    "ax.hist(df_reg[\"pat_dnm\"], label = \"male\", bins = 30, alpha = 0.5)\n",
    "plt.title(\"Mutations vs Age\")\n",
    "plt.xlabel(\"Number of Mutation\")\n",
    "plt.ylabel(\"Age\")\n",
    "plt.legend()\n",
    "plt.show()"
   ]
  },
  {
   "cell_type": "markdown",
   "metadata": {},
   "source": [
    "## 9: Test whether maternal mutations are signifiantly different than paternal mutations\n"
   ]
  },
  {
   "cell_type": "code",
   "execution_count": 57,
   "metadata": {},
   "outputs": [
    {
     "data": {
      "text/plain": [
       "Ttest_indResult(statistic=-53.403565287269245, pvalue=2.1986031793078793e-264)"
      ]
     },
     "execution_count": 57,
     "metadata": {},
     "output_type": "execute_result"
    }
   ],
   "source": [
    "stats.ttest_ind(df_final[\"mat_dnm\"], df_final[\"pat_dnm\"])\n",
    "\n"
   ]
  },
  {
   "cell_type": "code",
   "execution_count": null,
   "metadata": {},
   "outputs": [],
   "source": [
    "# yes, there is statistically signifant difference"
   ]
  },
  {
   "cell_type": "markdown",
   "metadata": {},
   "source": [
    "## 10 Refit the model: Poisson regression"
   ]
  },
  {
   "cell_type": "code",
   "execution_count": 58,
   "metadata": {},
   "outputs": [
    {
     "name": "stdout",
     "output_type": "stream",
     "text": [
      "Optimization terminated successfully.\n",
      "         Current function value: 2.927974\n",
      "         Iterations 5\n"
     ]
    },
    {
     "data": {
      "text/html": [
       "<table class=\"simpletable\">\n",
       "<caption>Poisson Regression Results</caption>\n",
       "<tr>\n",
       "  <th>Dep. Variable:</th>        <td>mat_dnm</td>     <th>  No. Observations:  </th>  <td>   396</td>  \n",
       "</tr>\n",
       "<tr>\n",
       "  <th>Model:</th>                <td>Poisson</td>     <th>  Df Residuals:      </th>  <td>   394</td>  \n",
       "</tr>\n",
       "<tr>\n",
       "  <th>Method:</th>                 <td>MLE</td>       <th>  Df Model:          </th>  <td>     1</td>  \n",
       "</tr>\n",
       "<tr>\n",
       "  <th>Date:</th>            <td>Fri, 04 Sep 2020</td> <th>  Pseudo R-squ.:     </th>  <td>0.07164</td> \n",
       "</tr>\n",
       "<tr>\n",
       "  <th>Time:</th>                <td>15:00:19</td>     <th>  Log-Likelihood:    </th> <td> -1159.5</td> \n",
       "</tr>\n",
       "<tr>\n",
       "  <th>converged:</th>             <td>True</td>       <th>  LL-Null:           </th> <td> -1248.9</td> \n",
       "</tr>\n",
       "<tr>\n",
       "  <th>Covariance Type:</th>     <td>nonrobust</td>    <th>  LLR p-value:       </th> <td>8.241e-41</td>\n",
       "</tr>\n",
       "</table>\n",
       "<table class=\"simpletable\">\n",
       "<tr>\n",
       "       <td></td>         <th>coef</th>     <th>std err</th>      <th>z</th>      <th>P>|z|</th>  <th>[0.025</th>    <th>0.975]</th>  \n",
       "</tr>\n",
       "<tr>\n",
       "  <th>Intercept</th>  <td>    1.7671</td> <td>    0.060</td> <td>   29.235</td> <td> 0.000</td> <td>    1.649</td> <td>    1.886</td>\n",
       "</tr>\n",
       "<tr>\n",
       "  <th>Mother_age</th> <td>    0.0281</td> <td>    0.002</td> <td>   13.582</td> <td> 0.000</td> <td>    0.024</td> <td>    0.032</td>\n",
       "</tr>\n",
       "</table>"
      ],
      "text/plain": [
       "<class 'statsmodels.iolib.summary.Summary'>\n",
       "\"\"\"\n",
       "                          Poisson Regression Results                          \n",
       "==============================================================================\n",
       "Dep. Variable:                mat_dnm   No. Observations:                  396\n",
       "Model:                        Poisson   Df Residuals:                      394\n",
       "Method:                           MLE   Df Model:                            1\n",
       "Date:                Fri, 04 Sep 2020   Pseudo R-squ.:                 0.07164\n",
       "Time:                        15:00:19   Log-Likelihood:                -1159.5\n",
       "converged:                       True   LL-Null:                       -1248.9\n",
       "Covariance Type:            nonrobust   LLR p-value:                 8.241e-41\n",
       "==============================================================================\n",
       "                 coef    std err          z      P>|z|      [0.025      0.975]\n",
       "------------------------------------------------------------------------------\n",
       "Intercept      1.7671      0.060     29.235      0.000       1.649       1.886\n",
       "Mother_age     0.0281      0.002     13.582      0.000       0.024       0.032\n",
       "==============================================================================\n",
       "\"\"\""
      ]
     },
     "execution_count": 58,
     "metadata": {},
     "output_type": "execute_result"
    }
   ],
   "source": [
    "model = smf.poisson(formula = 'mat_dnm ~ 1 + Mother_age', data = df_reg)\n",
    "results = model.fit()\n",
    "results.summary()"
   ]
  },
  {
   "cell_type": "code",
   "execution_count": 59,
   "metadata": {},
   "outputs": [
    {
     "name": "stdout",
     "output_type": "stream",
     "text": [
      "Optimization terminated successfully.\n",
      "         Current function value: 3.578620\n",
      "         Iterations 5\n"
     ]
    },
    {
     "data": {
      "text/html": [
       "<table class=\"simpletable\">\n",
       "<caption>Poisson Regression Results</caption>\n",
       "<tr>\n",
       "  <th>Dep. Variable:</th>        <td>pat_dnm</td>     <th>  No. Observations:  </th>   <td>   396</td>  \n",
       "</tr>\n",
       "<tr>\n",
       "  <th>Model:</th>                <td>Poisson</td>     <th>  Df Residuals:      </th>   <td>   394</td>  \n",
       "</tr>\n",
       "<tr>\n",
       "  <th>Method:</th>                 <td>MLE</td>       <th>  Df Model:          </th>   <td>     1</td>  \n",
       "</tr>\n",
       "<tr>\n",
       "  <th>Date:</th>            <td>Fri, 04 Sep 2020</td> <th>  Pseudo R-squ.:     </th>   <td>0.2277</td>  \n",
       "</tr>\n",
       "<tr>\n",
       "  <th>Time:</th>                <td>15:00:52</td>     <th>  Log-Likelihood:    </th>  <td> -1417.1</td> \n",
       "</tr>\n",
       "<tr>\n",
       "  <th>converged:</th>             <td>True</td>       <th>  LL-Null:           </th>  <td> -1834.9</td> \n",
       "</tr>\n",
       "<tr>\n",
       "  <th>Covariance Type:</th>     <td>nonrobust</td>    <th>  LLR p-value:       </th> <td>1.004e-183</td>\n",
       "</tr>\n",
       "</table>\n",
       "<table class=\"simpletable\">\n",
       "<tr>\n",
       "       <td></td>         <th>coef</th>     <th>std err</th>      <th>z</th>      <th>P>|z|</th>  <th>[0.025</th>    <th>0.975]</th>  \n",
       "</tr>\n",
       "<tr>\n",
       "  <th>Intercept</th>  <td>    3.1903</td> <td>    0.027</td> <td>  116.856</td> <td> 0.000</td> <td>    3.137</td> <td>    3.244</td>\n",
       "</tr>\n",
       "<tr>\n",
       "  <th>Father_age</th> <td>    0.0241</td> <td>    0.001</td> <td>   29.608</td> <td> 0.000</td> <td>    0.023</td> <td>    0.026</td>\n",
       "</tr>\n",
       "</table>"
      ],
      "text/plain": [
       "<class 'statsmodels.iolib.summary.Summary'>\n",
       "\"\"\"\n",
       "                          Poisson Regression Results                          \n",
       "==============================================================================\n",
       "Dep. Variable:                pat_dnm   No. Observations:                  396\n",
       "Model:                        Poisson   Df Residuals:                      394\n",
       "Method:                           MLE   Df Model:                            1\n",
       "Date:                Fri, 04 Sep 2020   Pseudo R-squ.:                  0.2277\n",
       "Time:                        15:00:52   Log-Likelihood:                -1417.1\n",
       "converged:                       True   LL-Null:                       -1834.9\n",
       "Covariance Type:            nonrobust   LLR p-value:                1.004e-183\n",
       "==============================================================================\n",
       "                 coef    std err          z      P>|z|      [0.025      0.975]\n",
       "------------------------------------------------------------------------------\n",
       "Intercept      3.1903      0.027    116.856      0.000       3.137       3.244\n",
       "Father_age     0.0241      0.001     29.608      0.000       0.023       0.026\n",
       "==============================================================================\n",
       "\"\"\""
      ]
     },
     "execution_count": 59,
     "metadata": {},
     "output_type": "execute_result"
    }
   ],
   "source": [
    "model = smf.poisson(formula = 'pat_dnm ~ 1 + Father_age', data = df_reg)\n",
    "results = model.fit()\n",
    "results.summary()"
   ]
  },
  {
   "cell_type": "markdown",
   "metadata": {},
   "source": [
    "## 11: prediction"
   ]
  },
  {
   "cell_type": "code",
   "execution_count": 6,
   "metadata": {},
   "outputs": [
    {
     "name": "stdout",
     "output_type": "stream",
     "text": [
      "predicted # of denovo mutations\n"
     ]
    },
    {
     "data": {
      "text/plain": [
       "82.05173803957092"
      ]
     },
     "execution_count": 6,
     "metadata": {},
     "output_type": "execute_result"
    }
   ],
   "source": [
    "import math\n",
    "\n",
    "beta = 50.5\n",
    "alpha = 3.1903\n",
    "x = 0.0241\n",
    "print(\"predicted # of denovo mutations\")\n",
    "math.exp(alpha + beta*x)"
   ]
  },
  {
   "cell_type": "code",
   "execution_count": null,
   "metadata": {},
   "outputs": [],
   "source": [
    "# new_observation = pd.DataFrame({\"Father_age\": [50.5]})"
   ]
  }
 ],
 "metadata": {
  "kernelspec": {
   "display_name": "Python 3",
   "language": "python",
   "name": "python3"
  },
  "language_info": {
   "codemirror_mode": {
    "name": "ipython",
    "version": 3
   },
   "file_extension": ".py",
   "mimetype": "text/x-python",
   "name": "python",
   "nbconvert_exporter": "python",
   "pygments_lexer": "ipython3",
   "version": "3.6.10"
  }
 },
 "nbformat": 4,
 "nbformat_minor": 4
}
