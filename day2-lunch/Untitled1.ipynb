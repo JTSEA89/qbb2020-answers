{
 "cells": [
  {
   "cell_type": "code",
   "execution_count": null,
   "metadata": {},
   "outputs": [],
   "source": [
    "uniprot_mapping=open('cleangenes.txt','r')\n",
    "ctab=open('t_data.ctab','r')\n",
    "uniprot_dict={}\n",
    "for line in uniprot_mapping:\n",
    "    line=line.split('\\t') #removes newline character\n",
    "    if 'uniprot' in line:\n",
    "        pass\n",
    "    else:\n",
    "        uniprot_dict[line[1]]=line[0]\n",
    "\n",
    "    \n",
    "for line in ctab:\n",
    "    line=line.split('\\t')\n",
    "    if 't_id' in line:\n",
    "        continue\n",
    "    else:\n",
    "        if line[8] in uniprot_dict:\n",
    "            line[8]=uniprot_dict[line[8]]\n",
    "        else:\n",
    "            line[8]=\"no UniProtID\"\n",
    "        \n",
    "        a = \"\".join(elem+\" \" for elem in line)\n",
    "        print(a)"
   ]
  }
 ],
 "metadata": {
  "kernelspec": {
   "display_name": "Python 3",
   "language": "python",
   "name": "python3"
  },
  "language_info": {
   "codemirror_mode": {
    "name": "ipython",
    "version": 3
   },
   "file_extension": ".py",
   "mimetype": "text/x-python",
   "name": "python",
   "nbconvert_exporter": "python",
   "pygments_lexer": "ipython3",
   "version": "3.6.10"
  }
 },
 "nbformat": 4,
 "nbformat_minor": 4
}
